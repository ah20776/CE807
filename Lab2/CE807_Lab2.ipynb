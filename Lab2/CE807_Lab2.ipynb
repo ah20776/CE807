{
  "nbformat": 4,
  "nbformat_minor": 0,
  "metadata": {
    "colab": {
      "name": "CE807_Lab2.ipynb",
      "provenance": [],
      "collapsed_sections": [],
      "authorship_tag": "ABX9TyOui/TAtS/ADcuM51EGIeKJ",
      "include_colab_link": true
    },
    "kernelspec": {
      "name": "python3",
      "display_name": "Python 3"
    },
    "language_info": {
      "name": "python"
    }
  },
  "cells": [
    {
      "cell_type": "markdown",
      "metadata": {
        "id": "view-in-github",
        "colab_type": "text"
      },
      "source": [
        "<a href=\"https://colab.research.google.com/github/ah20776/CE807/blob/main/Lab2/CE807_Lab2.ipynb\" target=\"_parent\"><img src=\"https://colab.research.google.com/assets/colab-badge.svg\" alt=\"Open In Colab\"/></a>"
      ]
    },
    {
      "cell_type": "code",
      "metadata": {
        "colab": {
          "base_uri": "https://localhost:8080/"
        },
        "id": "OtFHU7v-KSi_",
        "outputId": "954c1e9f-9cb3-444a-9834-236f97fac8da"
      },
      "source": [
        "#The standard NLTK NE tagger\n",
        "#Named Entity Recognizer in Python using Stanford Recognizer\n",
        "\n",
        "import nltk\n",
        "import re\n",
        "import time\n",
        "\n",
        "nltk.download('punkt')\n",
        "nltk.download('averaged_perceptron_tagger')\n",
        "nltk.download('maxent_ne_chunker')\n",
        "nltk.download('words')\n",
        "\n",
        "exampleArray = ['Prime Minister:Theresa May travelled to Switzerland in 2018.']\n",
        "\n",
        "\n",
        "##let the fun begin!##\n",
        "def nerInNLTK():\n",
        "    try:\n",
        "        for item in exampleArray:\n",
        "            tokenized = nltk.word_tokenize(item)\n",
        "            pos_tagged = nltk.pos_tag(tokenized)\n",
        "            print (pos_tagged)\n",
        "\n",
        "            namedEnt = nltk.ne_chunk(pos_tagged)\n",
        "            print(namedEnt.draw())\n",
        "            #doubt-not getting output tree\n",
        "\n",
        "            time.sleep(1)\n",
        "\n",
        "    except Exception as e:\n",
        "        print(e)\n",
        "\n",
        "nerInNLTK()"
      ],
      "execution_count": 19,
      "outputs": [
        {
          "output_type": "stream",
          "text": [
            "[nltk_data] Downloading package punkt to /root/nltk_data...\n",
            "[nltk_data]   Package punkt is already up-to-date!\n",
            "[nltk_data] Downloading package averaged_perceptron_tagger to\n",
            "[nltk_data]     /root/nltk_data...\n",
            "[nltk_data]   Package averaged_perceptron_tagger is already up-to-\n",
            "[nltk_data]       date!\n",
            "[nltk_data] Downloading package maxent_ne_chunker to\n",
            "[nltk_data]     /root/nltk_data...\n",
            "[nltk_data]   Package maxent_ne_chunker is already up-to-date!\n",
            "[nltk_data] Downloading package words to /root/nltk_data...\n",
            "[nltk_data]   Package words is already up-to-date!\n",
            "[('Prime', 'NNP'), ('Minister', 'NNP'), (':', ':'), ('Theresa', 'NNP'), ('May', 'NNP'), ('travelled', 'VBD'), ('to', 'TO'), ('Switzerland', 'NNP'), ('in', 'IN'), ('2018', 'CD'), ('.', '.')]\n",
            "no display name and no $DISPLAY environment variable\n"
          ],
          "name": "stdout"
        }
      ]
    },
    {
      "cell_type": "code",
      "metadata": {
        "colab": {
          "base_uri": "https://localhost:8080/"
        },
        "id": "EraKtmpoppBe",
        "outputId": "0187325a-0214-4a12-c24e-baaff3d12fdb"
      },
      "source": [
        "import nltk\n",
        "\n",
        "from nltk.tag import StanfordNERTagger\n",
        "\n",
        "#to get the stanford tagger we need to get it from our system as it is saved. so we uploaded it into github and then cloned it to colab.\n",
        "!git clone https://github.com/ah20776/CE807.git\n",
        "\n",
        "st = StanfordNERTagger('/content/CE807/Lab2/english.all.3class.distsim.crf.ser.gz', '/content/CE807/Lab2/stanford-ner.jar') \n",
        "\n",
        "result=st.tag('Prime Minister Theresa May travelled to Washington in 2017'.split()) \n",
        "\n",
        "print(result)"
      ],
      "execution_count": 22,
      "outputs": [
        {
          "output_type": "stream",
          "text": [
            "fatal: destination path 'CE807' already exists and is not an empty directory.\n"
          ],
          "name": "stdout"
        },
        {
          "output_type": "stream",
          "text": [
            "/usr/local/lib/python3.7/dist-packages/nltk/tag/stanford.py:183: DeprecationWarning: \n",
            "The StanfordTokenizer will be deprecated in version 3.2.5.\n",
            "Please use \u001b[91mnltk.tag.corenlp.CoreNLPPOSTagger\u001b[0m or \u001b[91mnltk.tag.corenlp.CoreNLPNERTagger\u001b[0m instead.\n",
            "  super(StanfordNERTagger, self).__init__(*args, **kwargs)\n"
          ],
          "name": "stderr"
        },
        {
          "output_type": "stream",
          "text": [
            "[('Prime', 'O'), ('Minister', 'O'), ('Theresa', 'PERSON'), ('May', 'PERSON'), ('travelled', 'O'), ('to', 'O'), ('Washington', 'LOCATION'), ('in', 'O'), ('2017', 'O')]\n"
          ],
          "name": "stdout"
        }
      ]
    }
  ]
}