{
  "nbformat": 4,
  "nbformat_minor": 0,
  "metadata": {
    "colab": {
      "name": "CE807_Lab2_TopicModelling.ipynb",
      "provenance": [],
      "collapsed_sections": [],
      "authorship_tag": "ABX9TyOurudHltussW4PefLdozR7",
      "include_colab_link": true
    },
    "kernelspec": {
      "name": "python3",
      "display_name": "Python 3"
    },
    "language_info": {
      "name": "python"
    }
  },
  "cells": [
    {
      "cell_type": "markdown",
      "metadata": {
        "id": "view-in-github",
        "colab_type": "text"
      },
      "source": [
        "<a href=\"https://colab.research.google.com/github/ah20776/CE807/blob/main/Lab2/CE807_Lab2_TopicModelling.ipynb\" target=\"_parent\"><img src=\"https://colab.research.google.com/assets/colab-badge.svg\" alt=\"Open In Colab\"/></a>"
      ]
    },
    {
      "cell_type": "code",
      "metadata": {
        "colab": {
          "base_uri": "https://localhost:8080/"
        },
        "id": "0R7C6GVjbRor",
        "outputId": "d54fcfa0-814a-496d-c3bb-7d7891317faa"
      },
      "source": [
        "!git clone https://github.com/ah20776/CE807.git"
      ],
      "execution_count": null,
      "outputs": [
        {
          "output_type": "stream",
          "text": [
            "Cloning into 'CE807'...\n",
            "remote: Enumerating objects: 40, done.\u001b[K\n",
            "remote: Counting objects: 100% (40/40), done.\u001b[K\n",
            "remote: Compressing objects: 100% (34/34), done.\u001b[K\n",
            "remote: Total 40 (delta 7), reused 0 (delta 0), pack-reused 0\u001b[K\n",
            "Unpacking objects: 100% (40/40), done.\n"
          ],
          "name": "stdout"
        }
      ]
    },
    {
      "cell_type": "code",
      "metadata": {
        "colab": {
          "base_uri": "https://localhost:8080/"
        },
        "id": "PzCVxn7XvzMx",
        "outputId": "fd90971d-b25e-4cec-eca1-1995038bb045"
      },
      "source": [
        "#Installing LDA (Latent Dirichlet allocation) for Topic Modeling\n",
        "\n",
        "pip install lda."
      ],
      "execution_count": 2,
      "outputs": [
        {
          "output_type": "stream",
          "text": [
            "Collecting lda\n",
            "\u001b[?25l  Downloading https://files.pythonhosted.org/packages/d1/45/8bf6862a599649350280bf0020b0b23c4948304158702632f677dc967737/lda-2.0.0-cp37-cp37m-manylinux1_x86_64.whl (351kB)\n",
            "\u001b[K     |████████████████████████████████| 358kB 19.7MB/s \n",
            "\u001b[?25hCollecting pbr<4,>=0.6\n",
            "\u001b[?25l  Downloading https://files.pythonhosted.org/packages/0c/5d/b077dbf309993d52c1d71e6bf6fe443a8029ea215135ebbe0b1b10e7aefc/pbr-3.1.1-py2.py3-none-any.whl (99kB)\n",
            "\u001b[K     |████████████████████████████████| 102kB 7.8MB/s \n",
            "\u001b[?25hRequirement already satisfied: numpy<2.0,>=1.13.0 in /usr/local/lib/python3.7/dist-packages (from lda) (1.19.5)\n",
            "Installing collected packages: pbr, lda\n",
            "Successfully installed lda-2.0.0 pbr-3.1.1\n"
          ],
          "name": "stdout"
        }
      ]
    },
    {
      "cell_type": "code",
      "metadata": {
        "colab": {
          "base_uri": "https://localhost:8080/"
        },
        "id": "_qsAP70V-OOW",
        "outputId": "b32c21bf-b566-49e8-b513-b619b32a5998"
      },
      "source": [
        "import numpy as np\n",
        "import lda\n",
        "import lda.datasets\n",
        "X = lda.datasets.load_reuters()\n",
        "vocab = lda.datasets.load_reuters_vocab()\n",
        "titles = lda.datasets.load_reuters_titles()\n",
        "print(X.shape)\n",
        "print(X.sum())"
      ],
      "execution_count": 4,
      "outputs": [
        {
          "output_type": "stream",
          "text": [
            "(395, 4258)\n",
            "84010\n"
          ],
          "name": "stdout"
        }
      ]
    }
  ]
}